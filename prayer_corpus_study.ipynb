{
 "cells": [
  {
   "metadata": {},
   "cell_type": "markdown",
   "source": "# PRAYER Corpus Exploration",
   "id": "5447c58b4e49a958"
  },
  {
   "metadata": {
    "ExecuteTime": {
     "end_time": "2025-07-15T22:42:23.076751Z",
     "start_time": "2025-07-15T22:42:23.068385Z"
    }
   },
   "cell_type": "code",
   "source": [
    "import copy\n",
    "import json\n",
    "import os\n",
    "from pathlib import Path\n",
    "from typing import TYPE_CHECKING, List, Tuple, Union\n",
    "\n",
    "import numpy as np\n",
    "import umap\n",
    "from numpy.typing import ArrayLike\n",
    "import pandas as pd\n",
    "from tqdm import tqdm\n",
    "\n",
    "tqdm.pandas()\n",
    "\n",
    "if TYPE_CHECKING:\n",
    "    from os import PathLike\n",
    "\n",
    "DATA_PATH = Path(\"prayer_leiden.json\")\n",
    "\n",
    "\n",
    "def load_corpus(\n",
    "        path: Union['PathLike', str],\n",
    "        drop_empty_expressions: bool = False,\n",
    ") -> pd.DataFrame:\n",
    "    data = json.load(open(path))\n",
    "\n",
    "    rows = []\n",
    "    for bidx, b in enumerate(data):\n",
    "        title =  b.get(\"title\", \"<NoBookTitle>\")\n",
    "        shelfmark = b.get('shelfmark', \"<NoShelfmark>\")\n",
    "        book = {\n",
    "            \"book_id\": b[\"id\"],\n",
    "            \"book_title\": title,\n",
    "            \"book_shelfmark\": shelfmark,\n",
    "            \"book_identifier\": f\"{'_'.join(title.split())}__{'_'.join(shelfmark.split())}_{b['id']}\",\n",
    "        }\n",
    "        for tidx, t in enumerate(b[\"texts\"]):\n",
    "            item = copy.deepcopy(book)\n",
    "            item[\"book_item\"] = f\"{bidx:05}/{tidx:05}\"\n",
    "            item[\"text_id\"] = t.get(\"text_id\", None)\n",
    "            item[\"text_sequence_number\"] = t.get(\"sequence_number\", None)\n",
    "            item[\"text_title\"] = t.get(\"title\", \"<NoTextTitle>\")\n",
    "            item[\"text_prayer_id\"] = t.get(\"prayer_id\", None)\n",
    "\n",
    "            rows.append(item)\n",
    "\n",
    "    df = pd.DataFrame(rows)\n",
    "\n",
    "    if drop_empty_expressions:\n",
    "        df = df[df[\"text_id\"].notna()]\n",
    "\n",
    "    return df"
   ],
   "id": "b5d534e8dabc4ca7",
   "outputs": [],
   "execution_count": 63
  },
  {
   "metadata": {
    "ExecuteTime": {
     "end_time": "2025-07-15T22:42:23.649078Z",
     "start_time": "2025-07-15T22:42:23.604785Z"
    }
   },
   "cell_type": "code",
   "source": [
    "dataset = load_corpus(\n",
    "    path=DATA_PATH,\n",
    "    drop_empty_expressions=False\n",
    ")\n",
    "dataset.head()"
   ],
   "id": "d0e5f4b556ebc86f",
   "outputs": [
    {
     "data": {
      "text/plain": [
       "   book_id             book_title book_shelfmark  \\\n",
       "0   124934  Book of hours (Dutch)       BPL 3101   \n",
       "1   124934  Book of hours (Dutch)       BPL 3101   \n",
       "2   124934  Book of hours (Dutch)       BPL 3101   \n",
       "3   124934  Book of hours (Dutch)       BPL 3101   \n",
       "4   124934  Book of hours (Dutch)       BPL 3101   \n",
       "\n",
       "                          book_identifier    book_item  text_id  \\\n",
       "0  Book_of_hours_(Dutch)__BPL_3101_124934  00000/00000    631.0   \n",
       "1  Book_of_hours_(Dutch)__BPL_3101_124934  00000/00001    164.0   \n",
       "2  Book_of_hours_(Dutch)__BPL_3101_124934  00000/00002    583.0   \n",
       "3  Book_of_hours_(Dutch)__BPL_3101_124934  00000/00003    675.0   \n",
       "4  Book_of_hours_(Dutch)__BPL_3101_124934  00000/00004      NaN   \n",
       "\n",
       "  text_sequence_number                                    text_title  \\\n",
       "0                 0001               Calendar for the use of Utrecht   \n",
       "1                 0002                           Hours of the Virgin   \n",
       "2                 0003  Long Hours of the Holy Cross with prologue A   \n",
       "3                 0004                      Hours of the Holy Spirit   \n",
       "4                9-6/7                                 <NoTextTitle>   \n",
       "\n",
       "  text_prayer_id  \n",
       "0                 \n",
       "1           G151  \n",
       "2          G155a  \n",
       "3           G152  \n",
       "4           None  "
      ],
      "text/html": [
       "<div>\n",
       "<style scoped>\n",
       "    .dataframe tbody tr th:only-of-type {\n",
       "        vertical-align: middle;\n",
       "    }\n",
       "\n",
       "    .dataframe tbody tr th {\n",
       "        vertical-align: top;\n",
       "    }\n",
       "\n",
       "    .dataframe thead th {\n",
       "        text-align: right;\n",
       "    }\n",
       "</style>\n",
       "<table border=\"1\" class=\"dataframe\">\n",
       "  <thead>\n",
       "    <tr style=\"text-align: right;\">\n",
       "      <th></th>\n",
       "      <th>book_id</th>\n",
       "      <th>book_title</th>\n",
       "      <th>book_shelfmark</th>\n",
       "      <th>book_identifier</th>\n",
       "      <th>book_item</th>\n",
       "      <th>text_id</th>\n",
       "      <th>text_sequence_number</th>\n",
       "      <th>text_title</th>\n",
       "      <th>text_prayer_id</th>\n",
       "    </tr>\n",
       "  </thead>\n",
       "  <tbody>\n",
       "    <tr>\n",
       "      <th>0</th>\n",
       "      <td>124934</td>\n",
       "      <td>Book of hours (Dutch)</td>\n",
       "      <td>BPL 3101</td>\n",
       "      <td>Book_of_hours_(Dutch)__BPL_3101_124934</td>\n",
       "      <td>00000/00000</td>\n",
       "      <td>631.0</td>\n",
       "      <td>0001</td>\n",
       "      <td>Calendar for the use of Utrecht</td>\n",
       "      <td></td>\n",
       "    </tr>\n",
       "    <tr>\n",
       "      <th>1</th>\n",
       "      <td>124934</td>\n",
       "      <td>Book of hours (Dutch)</td>\n",
       "      <td>BPL 3101</td>\n",
       "      <td>Book_of_hours_(Dutch)__BPL_3101_124934</td>\n",
       "      <td>00000/00001</td>\n",
       "      <td>164.0</td>\n",
       "      <td>0002</td>\n",
       "      <td>Hours of the Virgin</td>\n",
       "      <td>G151</td>\n",
       "    </tr>\n",
       "    <tr>\n",
       "      <th>2</th>\n",
       "      <td>124934</td>\n",
       "      <td>Book of hours (Dutch)</td>\n",
       "      <td>BPL 3101</td>\n",
       "      <td>Book_of_hours_(Dutch)__BPL_3101_124934</td>\n",
       "      <td>00000/00002</td>\n",
       "      <td>583.0</td>\n",
       "      <td>0003</td>\n",
       "      <td>Long Hours of the Holy Cross with prologue A</td>\n",
       "      <td>G155a</td>\n",
       "    </tr>\n",
       "    <tr>\n",
       "      <th>3</th>\n",
       "      <td>124934</td>\n",
       "      <td>Book of hours (Dutch)</td>\n",
       "      <td>BPL 3101</td>\n",
       "      <td>Book_of_hours_(Dutch)__BPL_3101_124934</td>\n",
       "      <td>00000/00003</td>\n",
       "      <td>675.0</td>\n",
       "      <td>0004</td>\n",
       "      <td>Hours of the Holy Spirit</td>\n",
       "      <td>G152</td>\n",
       "    </tr>\n",
       "    <tr>\n",
       "      <th>4</th>\n",
       "      <td>124934</td>\n",
       "      <td>Book of hours (Dutch)</td>\n",
       "      <td>BPL 3101</td>\n",
       "      <td>Book_of_hours_(Dutch)__BPL_3101_124934</td>\n",
       "      <td>00000/00004</td>\n",
       "      <td>NaN</td>\n",
       "      <td>9-6/7</td>\n",
       "      <td>&lt;NoTextTitle&gt;</td>\n",
       "      <td>None</td>\n",
       "    </tr>\n",
       "  </tbody>\n",
       "</table>\n",
       "</div>"
      ]
     },
     "execution_count": 64,
     "metadata": {},
     "output_type": "execute_result"
    }
   ],
   "execution_count": 64
  },
  {
   "metadata": {},
   "cell_type": "markdown",
   "source": "## Exploration",
   "id": "17d71a34c3967541"
  },
  {
   "metadata": {},
   "cell_type": "markdown",
   "source": [
    "Let us get some general stats:\n",
    "* Lengths of books\n",
    "* Frequencies of texts"
   ],
   "id": "a622b480c7d614e2"
  },
  {
   "metadata": {},
   "cell_type": "markdown",
   "source": "### Books",
   "id": "aae8021dcdadd14e"
  },
  {
   "metadata": {
    "ExecuteTime": {
     "end_time": "2025-07-15T22:42:24.976700Z",
     "start_time": "2025-07-15T22:42:24.968926Z"
    }
   },
   "cell_type": "code",
   "source": [
    "book_length = dataset.groupby(\"book_identifier\").size().copy().sort_values(ascending=False).reset_index(name=\"items\")\n",
    "book_length"
   ],
   "id": "ac35a9219864d373",
   "outputs": [
    {
     "data": {
      "text/plain": [
       "                                       book_identifier  items\n",
       "0               Getijden-_en_gebedenboek__12079_125129    116\n",
       "1              Getijden-_en_gebedenboek__BMH_58_135343     92\n",
       "2    Book_of_Hours,_in_Dutch__MSL/1902/1672_(Reid_3...     91\n",
       "3      Book_of_Hours_in_Middle_Dutch__Douce_248_135237     91\n",
       "4                        Getijdenboek__Add._274_128850     86\n",
       "..                                                 ...    ...\n",
       "495  Ghetidenboec__New_York_NY,_Metropolitan_Museum...      1\n",
       "496  <NoBookTitle>__'S-GRAVENHAGE,_KB_:_78_J_48_124898      1\n",
       "497  Middelnederlands_getijden-_en_gebedenboek__Hs....      1\n",
       "498  Middelnederlands_getijden-_en_gebedenboek__Hs....      1\n",
       "499  Fragment_in_Haebler_volume_(1928)__ECC_F577A.5...      1\n",
       "\n",
       "[500 rows x 2 columns]"
      ],
      "text/html": [
       "<div>\n",
       "<style scoped>\n",
       "    .dataframe tbody tr th:only-of-type {\n",
       "        vertical-align: middle;\n",
       "    }\n",
       "\n",
       "    .dataframe tbody tr th {\n",
       "        vertical-align: top;\n",
       "    }\n",
       "\n",
       "    .dataframe thead th {\n",
       "        text-align: right;\n",
       "    }\n",
       "</style>\n",
       "<table border=\"1\" class=\"dataframe\">\n",
       "  <thead>\n",
       "    <tr style=\"text-align: right;\">\n",
       "      <th></th>\n",
       "      <th>book_identifier</th>\n",
       "      <th>items</th>\n",
       "    </tr>\n",
       "  </thead>\n",
       "  <tbody>\n",
       "    <tr>\n",
       "      <th>0</th>\n",
       "      <td>Getijden-_en_gebedenboek__12079_125129</td>\n",
       "      <td>116</td>\n",
       "    </tr>\n",
       "    <tr>\n",
       "      <th>1</th>\n",
       "      <td>Getijden-_en_gebedenboek__BMH_58_135343</td>\n",
       "      <td>92</td>\n",
       "    </tr>\n",
       "    <tr>\n",
       "      <th>2</th>\n",
       "      <td>Book_of_Hours,_in_Dutch__MSL/1902/1672_(Reid_3...</td>\n",
       "      <td>91</td>\n",
       "    </tr>\n",
       "    <tr>\n",
       "      <th>3</th>\n",
       "      <td>Book_of_Hours_in_Middle_Dutch__Douce_248_135237</td>\n",
       "      <td>91</td>\n",
       "    </tr>\n",
       "    <tr>\n",
       "      <th>4</th>\n",
       "      <td>Getijdenboek__Add._274_128850</td>\n",
       "      <td>86</td>\n",
       "    </tr>\n",
       "    <tr>\n",
       "      <th>...</th>\n",
       "      <td>...</td>\n",
       "      <td>...</td>\n",
       "    </tr>\n",
       "    <tr>\n",
       "      <th>495</th>\n",
       "      <td>Ghetidenboec__New_York_NY,_Metropolitan_Museum...</td>\n",
       "      <td>1</td>\n",
       "    </tr>\n",
       "    <tr>\n",
       "      <th>496</th>\n",
       "      <td>&lt;NoBookTitle&gt;__'S-GRAVENHAGE,_KB_:_78_J_48_124898</td>\n",
       "      <td>1</td>\n",
       "    </tr>\n",
       "    <tr>\n",
       "      <th>497</th>\n",
       "      <td>Middelnederlands_getijden-_en_gebedenboek__Hs....</td>\n",
       "      <td>1</td>\n",
       "    </tr>\n",
       "    <tr>\n",
       "      <th>498</th>\n",
       "      <td>Middelnederlands_getijden-_en_gebedenboek__Hs....</td>\n",
       "      <td>1</td>\n",
       "    </tr>\n",
       "    <tr>\n",
       "      <th>499</th>\n",
       "      <td>Fragment_in_Haebler_volume_(1928)__ECC_F577A.5...</td>\n",
       "      <td>1</td>\n",
       "    </tr>\n",
       "  </tbody>\n",
       "</table>\n",
       "<p>500 rows × 2 columns</p>\n",
       "</div>"
      ]
     },
     "execution_count": 65,
     "metadata": {},
     "output_type": "execute_result"
    }
   ],
   "execution_count": 65
  },
  {
   "metadata": {
    "ExecuteTime": {
     "end_time": "2025-07-15T22:42:26.307051Z",
     "start_time": "2025-07-15T22:42:26.106748Z"
    }
   },
   "cell_type": "code",
   "source": [
    "import matplotlib.pyplot as plt\n",
    "fig, ax = plt.subplots(\n",
    "        figsize=(12,8),\n",
    "        dpi=300\n",
    ")\n",
    "ax.bar(book_length[\"book_identifier\"], book_length[\"items\"])\n",
    "ax.set_xticks([])\n",
    "ax.set_ylabel(\"Number of texts\")\n",
    "ax.set_title(\"Lengths of books\")\n",
    "\n",
    "plt.show()"
   ],
   "id": "2d13d687acd873bb",
   "outputs": [
    {
     "data": {
      "text/plain": [
       "<Figure size 3600x2400 with 1 Axes>"
      ],
      "image/png": "[encoded data removed]"
     },
     "metadata": {},
     "output_type": "display_data"
    }
   ],
   "execution_count": 66
  },
  {
   "metadata": {
    "ExecuteTime": {
     "end_time": "2025-07-15T22:42:27.759519Z",
     "start_time": "2025-07-15T22:42:27.754888Z"
    }
   },
   "cell_type": "code",
   "source": [
    "book_length = book_length.assign(\n",
    "    bin=pd.cut(book_length[\"items\"], bins=10, precision=0)\n",
    ")"
   ],
   "id": "51635b3c4f216241",
   "outputs": [],
   "execution_count": 67
  },
  {
   "metadata": {
    "ExecuteTime": {
     "end_time": "2025-07-15T22:42:28.208111Z",
     "start_time": "2025-07-15T22:42:28.199856Z"
    }
   },
   "cell_type": "code",
   "source": [
    "book_length_bins = book_length.groupby(\"bin\").size().copy().reset_index(name=\"items\").sort_values(by=\"bin\", ascending=False)\n",
    "book_length_bins"
   ],
   "id": "3383ae059c017c8d",
   "outputs": [
    {
     "name": "stderr",
     "output_type": "stream",
     "text": [
      "/var/folders/nl/vqk2y9kx4k53ld7qmn5h84z80000gn/T/ipykernel_49229/1462900131.py:1: FutureWarning:\n",
      "\n",
      "The default of observed=False is deprecated and will be changed to True in a future version of pandas. Pass observed=False to retain current behavior or observed=True to adopt the future default and silence this warning.\n",
      "\n"
     ]
    },
    {
     "data": {
      "text/plain": [
       "              bin  items\n",
       "9  (104.0, 116.0]      1\n",
       "8   (93.0, 104.0]      0\n",
       "7    (82.0, 93.0]      4\n",
       "6    (70.0, 82.0]      2\n",
       "5    (58.0, 70.0]     11\n",
       "4    (47.0, 58.0]     19\n",
       "3    (36.0, 47.0]     26\n",
       "2    (24.0, 36.0]     56\n",
       "1    (12.0, 24.0]     99\n",
       "0     (1.0, 12.0]    282"
      ],
      "text/html": [
       "<div>\n",
       "<style scoped>\n",
       "    .dataframe tbody tr th:only-of-type {\n",
       "        vertical-align: middle;\n",
       "    }\n",
       "\n",
       "    .dataframe tbody tr th {\n",
       "        vertical-align: top;\n",
       "    }\n",
       "\n",
       "    .dataframe thead th {\n",
       "        text-align: right;\n",
       "    }\n",
       "</style>\n",
       "<table border=\"1\" class=\"dataframe\">\n",
       "  <thead>\n",
       "    <tr style=\"text-align: right;\">\n",
       "      <th></th>\n",
       "      <th>bin</th>\n",
       "      <th>items</th>\n",
       "    </tr>\n",
       "  </thead>\n",
       "  <tbody>\n",
       "    <tr>\n",
       "      <th>9</th>\n",
       "      <td>(104.0, 116.0]</td>\n",
       "      <td>1</td>\n",
       "    </tr>\n",
       "    <tr>\n",
       "      <th>8</th>\n",
       "      <td>(93.0, 104.0]</td>\n",
       "      <td>0</td>\n",
       "    </tr>\n",
       "    <tr>\n",
       "      <th>7</th>\n",
       "      <td>(82.0, 93.0]</td>\n",
       "      <td>4</td>\n",
       "    </tr>\n",
       "    <tr>\n",
       "      <th>6</th>\n",
       "      <td>(70.0, 82.0]</td>\n",
       "      <td>2</td>\n",
       "    </tr>\n",
       "    <tr>\n",
       "      <th>5</th>\n",
       "      <td>(58.0, 70.0]</td>\n",
       "      <td>11</td>\n",
       "    </tr>\n",
       "    <tr>\n",
       "      <th>4</th>\n",
       "      <td>(47.0, 58.0]</td>\n",
       "      <td>19</td>\n",
       "    </tr>\n",
       "    <tr>\n",
       "      <th>3</th>\n",
       "      <td>(36.0, 47.0]</td>\n",
       "      <td>26</td>\n",
       "    </tr>\n",
       "    <tr>\n",
       "      <th>2</th>\n",
       "      <td>(24.0, 36.0]</td>\n",
       "      <td>56</td>\n",
       "    </tr>\n",
       "    <tr>\n",
       "      <th>1</th>\n",
       "      <td>(12.0, 24.0]</td>\n",
       "      <td>99</td>\n",
       "    </tr>\n",
       "    <tr>\n",
       "      <th>0</th>\n",
       "      <td>(1.0, 12.0]</td>\n",
       "      <td>282</td>\n",
       "    </tr>\n",
       "  </tbody>\n",
       "</table>\n",
       "</div>"
      ]
     },
     "execution_count": 68,
     "metadata": {},
     "output_type": "execute_result"
    }
   ],
   "execution_count": 68
  },
  {
   "metadata": {
    "ExecuteTime": {
     "end_time": "2025-07-15T22:42:28.860147Z",
     "start_time": "2025-07-15T22:42:28.760904Z"
    }
   },
   "cell_type": "code",
   "source": [
    "fig, ax = plt.subplots(\n",
    "        figsize=(12,8),\n",
    "        dpi=300\n",
    ")\n",
    "ax.bar(list(range(book_length_bins.shape[0])), book_length_bins[\"items\"])\n",
    "ax.set_xticks(list(range(book_length_bins.shape[0])))\n",
    "ax.set_xticklabels([f\"({int(i.left)}-{int(i.right)}]\" for i in book_length_bins[\"bin\"]], rotation=90)\n",
    "ax.set_ylabel(\"Number of texts\")\n",
    "ax.set_title(\"Binned Lengths of books\")\n",
    "\n",
    "plt.show()"
   ],
   "id": "7689a0b6030d808b",
   "outputs": [
    {
     "data": {
      "text/plain": [
       "<Figure size 3600x2400 with 1 Axes>"
      ],
      "image/png": "[encoded data removed]"
     },
     "metadata": {},
     "output_type": "display_data"
    }
   ],
   "execution_count": 69
  },
  {
   "metadata": {},
   "cell_type": "markdown",
   "source": "### Texts",
   "id": "f34d158f3512fb19"
  },
  {
   "metadata": {
    "ExecuteTime": {
     "end_time": "2025-07-16T07:56:48.507846Z",
     "start_time": "2025-07-16T07:56:48.499972Z"
    }
   },
   "cell_type": "code",
   "source": [
    "text_freqs = dataset.groupby(\"text_id\").size().copy().sort_values(ascending=False).reset_index(name=\"items\")\n",
    "text_freqs"
   ],
   "id": "6350e4bcd54994eb",
   "outputs": [
    {
     "data": {
      "text/plain": [
       "       text_id  items\n",
       "0        164.0    247\n",
       "1        466.0    216\n",
       "2        517.0    216\n",
       "3        631.0    204\n",
       "4        695.0    199\n",
       "...        ...    ...\n",
       "1562  136006.0      1\n",
       "1563  136012.0      1\n",
       "1564  136018.0      1\n",
       "1565  136020.0      1\n",
       "1566  143947.0      1\n",
       "\n",
       "[1567 rows x 2 columns]"
      ],
      "text/html": [
       "<div>\n",
       "<style scoped>\n",
       "    .dataframe tbody tr th:only-of-type {\n",
       "        vertical-align: middle;\n",
       "    }\n",
       "\n",
       "    .dataframe tbody tr th {\n",
       "        vertical-align: top;\n",
       "    }\n",
       "\n",
       "    .dataframe thead th {\n",
       "        text-align: right;\n",
       "    }\n",
       "</style>\n",
       "<table border=\"1\" class=\"dataframe\">\n",
       "  <thead>\n",
       "    <tr style=\"text-align: right;\">\n",
       "      <th></th>\n",
       "      <th>text_id</th>\n",
       "      <th>items</th>\n",
       "    </tr>\n",
       "  </thead>\n",
       "  <tbody>\n",
       "    <tr>\n",
       "      <th>0</th>\n",
       "      <td>164.0</td>\n",
       "      <td>247</td>\n",
       "    </tr>\n",
       "    <tr>\n",
       "      <th>1</th>\n",
       "      <td>466.0</td>\n",
       "      <td>216</td>\n",
       "    </tr>\n",
       "    <tr>\n",
       "      <th>2</th>\n",
       "      <td>517.0</td>\n",
       "      <td>216</td>\n",
       "    </tr>\n",
       "    <tr>\n",
       "      <th>3</th>\n",
       "      <td>631.0</td>\n",
       "      <td>204</td>\n",
       "    </tr>\n",
       "    <tr>\n",
       "      <th>4</th>\n",
       "      <td>695.0</td>\n",
       "      <td>199</td>\n",
       "    </tr>\n",
       "    <tr>\n",
       "      <th>...</th>\n",
       "      <td>...</td>\n",
       "      <td>...</td>\n",
       "    </tr>\n",
       "    <tr>\n",
       "      <th>1562</th>\n",
       "      <td>136006.0</td>\n",
       "      <td>1</td>\n",
       "    </tr>\n",
       "    <tr>\n",
       "      <th>1563</th>\n",
       "      <td>136012.0</td>\n",
       "      <td>1</td>\n",
       "    </tr>\n",
       "    <tr>\n",
       "      <th>1564</th>\n",
       "      <td>136018.0</td>\n",
       "      <td>1</td>\n",
       "    </tr>\n",
       "    <tr>\n",
       "      <th>1565</th>\n",
       "      <td>136020.0</td>\n",
       "      <td>1</td>\n",
       "    </tr>\n",
       "    <tr>\n",
       "      <th>1566</th>\n",
       "      <td>143947.0</td>\n",
       "      <td>1</td>\n",
       "    </tr>\n",
       "  </tbody>\n",
       "</table>\n",
       "<p>1567 rows × 2 columns</p>\n",
       "</div>"
      ]
     },
     "execution_count": 91,
     "metadata": {},
     "output_type": "execute_result"
    }
   ],
   "execution_count": 91
  },
  {
   "metadata": {
    "ExecuteTime": {
     "end_time": "2025-07-16T07:58:31.432121Z",
     "start_time": "2025-07-16T07:58:31.033287Z"
    }
   },
   "cell_type": "code",
   "source": [
    "fig, ax = plt.subplots(\n",
    "        figsize=(12,8),\n",
    "        dpi=300\n",
    ")\n",
    "ax.bar(list(range(text_freqs.shape[0])), text_freqs[\"items\"])\n",
    "ax.set_xticks([])\n",
    "ax.set_ylabel(\"Number of copies\")\n",
    "ax.set_title(\"Text frequencies\")\n",
    "\n",
    "plt.show()"
   ],
   "id": "27536d455b0dcc17",
   "outputs": [
    {
     "data": {
      "text/plain": [
       "<Figure size 3600x2400 with 1 Axes>"
      ],
      "image/png": "[encoded data removed]"
     },
     "metadata": {},
     "output_type": "display_data"
    }
   ],
   "execution_count": 93
  },
  {
   "metadata": {},
   "cell_type": "markdown",
   "source": "## Co-Occurrences",
   "id": "c6a20eab0eeb517d"
  },
  {
   "metadata": {
    "ExecuteTime": {
     "end_time": "2025-07-16T08:07:29.427647Z",
     "start_time": "2025-07-16T08:07:29.417584Z"
    }
   },
   "cell_type": "code",
   "source": [
    "def compute_adjacency(\n",
    "        df: pd.DataFrame,\n",
    "        left_context: Union[int, None] = None,\n",
    "        right_context: Union[int, None] = None\n",
    "):\n",
    "    df = df[df[\"text_id\"].notna()].copy()\n",
    "    _, counts = np.unique(df[\"text_id\"], return_counts=True)\n",
    "    unique, labels = np.unique(df[\"text_id\"], return_inverse=True)\n",
    "    unique = unique.astype(int)\n",
    "    text2idx = {int(t): i for i, t in enumerate(unique)}\n",
    "    idx2text = {i: t for i, t in text2idx.items()}\n",
    "\n",
    "    seqs = df.groupby(\"book_identifier\")[\"text_id\"].apply(list).to_dict()\n",
    "\n",
    "    adjacency_matrix = np.zeros((len(unique), len(unique)), dtype=int)\n",
    "    for seq in seqs.values():\n",
    "        seq_indices = [text2idx[t] for t in seq]\n",
    "        seq_len = len(seq_indices)\n",
    "\n",
    "        for i, idx_i in enumerate(seq_indices):\n",
    "            start = 0 if left_context is None else max(i - left_context, 0)\n",
    "            end = seq_len if right_context is None else min(i + right_context + 1, seq_len)\n",
    "\n",
    "            context_indices = seq_indices[start:i] + seq_indices[i + 1:end]\n",
    "\n",
    "            # this will count all occurrences with itself, which may be interesting\n",
    "            # context_indices = seq_indices[start:end]\n",
    "\n",
    "            for idx_j in context_indices:\n",
    "                adjacency_matrix[idx_i, idx_j] += 1\n",
    "\n",
    "    adj_df = pd.DataFrame(adjacency_matrix, index=unique, columns=unique, dtype=int)\n",
    "\n",
    "    return adj_df, text2idx, idx2text"
   ],
   "id": "7e5ab240bc66420d",
   "outputs": [],
   "execution_count": 98
  },
  {
   "metadata": {
    "ExecuteTime": {
     "end_time": "2025-07-16T08:08:50.285702Z",
     "start_time": "2025-07-16T08:08:50.248241Z"
    }
   },
   "cell_type": "code",
   "source": [
    "cooc_df, text2idx, idx2text = compute_adjacency(\n",
    "    df=dataset,\n",
    "    left_context=3,\n",
    "    right_context=3\n",
    ")"
   ],
   "id": "5e83d04effac1239",
   "outputs": [],
   "execution_count": 102
  },
  {
   "metadata": {
    "ExecuteTime": {
     "end_time": "2025-07-16T08:08:57.822103Z",
     "start_time": "2025-07-16T08:08:57.813811Z"
    }
   },
   "cell_type": "code",
   "source": "cooc_df",
   "id": "140172d8be806d57",
   "outputs": [
    {
     "data": {
      "text/plain": [
       "        164     168     171     192     197     260     461     466     \\\n",
       "164          2       0       0       4      41       0      26      67   \n",
       "168          0       0      29       0       1      18       2      25   \n",
       "171          0      29       0       0       1      24       0       3   \n",
       "192          4       0       0       0       1       0       0       0   \n",
       "197         41       1       1       1       0       0       0      25   \n",
       "...        ...     ...     ...     ...     ...     ...     ...     ...   \n",
       "143505       1       0       0       0       0       0       0       0   \n",
       "143506       1       0       0       0       0       0       0       0   \n",
       "143507       0       0       0       0       0       0       0       0   \n",
       "143513       0       0       0       0       0       0       0       0   \n",
       "143947       0       0       0       0       0       0       0       0   \n",
       "\n",
       "        515     517     ...  143407  143411  143412  143467  143504  143505  \\\n",
       "164          1      42  ...       0       0       1       0       0       1   \n",
       "168          0      33  ...       0       0       0       0       0       0   \n",
       "171          0       8  ...       0       0       0       0       0       0   \n",
       "192          0       0  ...       0       0       0       0       0       0   \n",
       "197          1      21  ...       0       0       0       0       0       0   \n",
       "...        ...     ...  ...     ...     ...     ...     ...     ...     ...   \n",
       "143505       0       0  ...       0       0       0       0       0       0   \n",
       "143506       0       0  ...       0       0       0       0       0       1   \n",
       "143507       0       0  ...       0       0       0       0       0       0   \n",
       "143513       0       0  ...       0       0       0       0       0       0   \n",
       "143947       0       0  ...       0       0       0       0       0       0   \n",
       "\n",
       "        143506  143507  143513  143947  \n",
       "164          1       0       0       0  \n",
       "168          0       0       0       0  \n",
       "171          0       0       0       0  \n",
       "192          0       0       0       0  \n",
       "197          0       0       0       0  \n",
       "...        ...     ...     ...     ...  \n",
       "143505       1       0       0       0  \n",
       "143506       0       0       0       0  \n",
       "143507       0       0       0       0  \n",
       "143513       0       0       0       0  \n",
       "143947       0       0       0       0  \n",
       "\n",
       "[1567 rows x 1567 columns]"
      ],
      "text/html": [
       "<div>\n",
       "<style scoped>\n",
       "    .dataframe tbody tr th:only-of-type {\n",
       "        vertical-align: middle;\n",
       "    }\n",
       "\n",
       "    .dataframe tbody tr th {\n",
       "        vertical-align: top;\n",
       "    }\n",
       "\n",
       "    .dataframe thead th {\n",
       "        text-align: right;\n",
       "    }\n",
       "</style>\n",
       "<table border=\"1\" class=\"dataframe\">\n",
       "  <thead>\n",
       "    <tr style=\"text-align: right;\">\n",
       "      <th></th>\n",
       "      <th>164</th>\n",
       "      <th>168</th>\n",
       "      <th>171</th>\n",
       "      <th>192</th>\n",
       "      <th>197</th>\n",
       "      <th>260</th>\n",
       "      <th>461</th>\n",
       "      <th>466</th>\n",
       "      <th>515</th>\n",
       "      <th>517</th>\n",
       "      <th>...</th>\n",
       "      <th>143407</th>\n",
       "      <th>143411</th>\n",
       "      <th>143412</th>\n",
       "      <th>143467</th>\n",
       "      <th>143504</th>\n",
       "      <th>143505</th>\n",
       "      <th>143506</th>\n",
       "      <th>143507</th>\n",
       "      <th>143513</th>\n",
       "      <th>143947</th>\n",
       "    </tr>\n",
       "  </thead>\n",
       "  <tbody>\n",
       "    <tr>\n",
       "      <th>164</th>\n",
       "      <td>2</td>\n",
       "      <td>0</td>\n",
       "      <td>0</td>\n",
       "      <td>4</td>\n",
       "      <td>41</td>\n",
       "      <td>0</td>\n",
       "      <td>26</td>\n",
       "      <td>67</td>\n",
       "      <td>1</td>\n",
       "      <td>42</td>\n",
       "      <td>...</td>\n",
       "      <td>0</td>\n",
       "      <td>0</td>\n",
       "      <td>1</td>\n",
       "      <td>0</td>\n",
       "      <td>0</td>\n",
       "      <td>1</td>\n",
       "      <td>1</td>\n",
       "      <td>0</td>\n",
       "      <td>0</td>\n",
       "      <td>0</td>\n",
       "    </tr>\n",
       "    <tr>\n",
       "      <th>168</th>\n",
       "      <td>0</td>\n",
       "      <td>0</td>\n",
       "      <td>29</td>\n",
       "      <td>0</td>\n",
       "      <td>1</td>\n",
       "      <td>18</td>\n",
       "      <td>2</td>\n",
       "      <td>25</td>\n",
       "      <td>0</td>\n",
       "      <td>33</td>\n",
       "      <td>...</td>\n",
       "      <td>0</td>\n",
       "      <td>0</td>\n",
       "      <td>0</td>\n",
       "      <td>0</td>\n",
       "      <td>0</td>\n",
       "      <td>0</td>\n",
       "      <td>0</td>\n",
       "      <td>0</td>\n",
       "      <td>0</td>\n",
       "      <td>0</td>\n",
       "    </tr>\n",
       "    <tr>\n",
       "      <th>171</th>\n",
       "      <td>0</td>\n",
       "      <td>29</td>\n",
       "      <td>0</td>\n",
       "      <td>0</td>\n",
       "      <td>1</td>\n",
       "      <td>24</td>\n",
       "      <td>0</td>\n",
       "      <td>3</td>\n",
       "      <td>0</td>\n",
       "      <td>8</td>\n",
       "      <td>...</td>\n",
       "      <td>0</td>\n",
       "      <td>0</td>\n",
       "      <td>0</td>\n",
       "      <td>0</td>\n",
       "      <td>0</td>\n",
       "      <td>0</td>\n",
       "      <td>0</td>\n",
       "      <td>0</td>\n",
       "      <td>0</td>\n",
       "      <td>0</td>\n",
       "    </tr>\n",
       "    <tr>\n",
       "      <th>192</th>\n",
       "      <td>4</td>\n",
       "      <td>0</td>\n",
       "      <td>0</td>\n",
       "      <td>0</td>\n",
       "      <td>1</td>\n",
       "      <td>0</td>\n",
       "      <td>0</td>\n",
       "      <td>0</td>\n",
       "      <td>0</td>\n",
       "      <td>0</td>\n",
       "      <td>...</td>\n",
       "      <td>0</td>\n",
       "      <td>0</td>\n",
       "      <td>0</td>\n",
       "      <td>0</td>\n",
       "      <td>0</td>\n",
       "      <td>0</td>\n",
       "      <td>0</td>\n",
       "      <td>0</td>\n",
       "      <td>0</td>\n",
       "      <td>0</td>\n",
       "    </tr>\n",
       "    <tr>\n",
       "      <th>197</th>\n",
       "      <td>41</td>\n",
       "      <td>1</td>\n",
       "      <td>1</td>\n",
       "      <td>1</td>\n",
       "      <td>0</td>\n",
       "      <td>0</td>\n",
       "      <td>0</td>\n",
       "      <td>25</td>\n",
       "      <td>1</td>\n",
       "      <td>21</td>\n",
       "      <td>...</td>\n",
       "      <td>0</td>\n",
       "      <td>0</td>\n",
       "      <td>0</td>\n",
       "      <td>0</td>\n",
       "      <td>0</td>\n",
       "      <td>0</td>\n",
       "      <td>0</td>\n",
       "      <td>0</td>\n",
       "      <td>0</td>\n",
       "      <td>0</td>\n",
       "    </tr>\n",
       "    <tr>\n",
       "      <th>...</th>\n",
       "      <td>...</td>\n",
       "      <td>...</td>\n",
       "      <td>...</td>\n",
       "      <td>...</td>\n",
       "      <td>...</td>\n",
       "      <td>...</td>\n",
       "      <td>...</td>\n",
       "      <td>...</td>\n",
       "      <td>...</td>\n",
       "      <td>...</td>\n",
       "      <td>...</td>\n",
       "      <td>...</td>\n",
       "      <td>...</td>\n",
       "      <td>...</td>\n",
       "      <td>...</td>\n",
       "      <td>...</td>\n",
       "      <td>...</td>\n",
       "      <td>...</td>\n",
       "      <td>...</td>\n",
       "      <td>...</td>\n",
       "      <td>...</td>\n",
       "    </tr>\n",
       "    <tr>\n",
       "      <th>143505</th>\n",
       "      <td>1</td>\n",
       "      <td>0</td>\n",
       "      <td>0</td>\n",
       "      <td>0</td>\n",
       "      <td>0</td>\n",
       "      <td>0</td>\n",
       "      <td>0</td>\n",
       "      <td>0</td>\n",
       "      <td>0</td>\n",
       "      <td>0</td>\n",
       "      <td>...</td>\n",
       "      <td>0</td>\n",
       "      <td>0</td>\n",
       "      <td>0</td>\n",
       "      <td>0</td>\n",
       "      <td>0</td>\n",
       "      <td>0</td>\n",
       "      <td>1</td>\n",
       "      <td>0</td>\n",
       "      <td>0</td>\n",
       "      <td>0</td>\n",
       "    </tr>\n",
       "    <tr>\n",
       "      <th>143506</th>\n",
       "      <td>1</td>\n",
       "      <td>0</td>\n",
       "      <td>0</td>\n",
       "      <td>0</td>\n",
       "      <td>0</td>\n",
       "      <td>0</td>\n",
       "      <td>0</td>\n",
       "      <td>0</td>\n",
       "      <td>0</td>\n",
       "      <td>0</td>\n",
       "      <td>...</td>\n",
       "      <td>0</td>\n",
       "      <td>0</td>\n",
       "      <td>0</td>\n",
       "      <td>0</td>\n",
       "      <td>0</td>\n",
       "      <td>1</td>\n",
       "      <td>0</td>\n",
       "      <td>0</td>\n",
       "      <td>0</td>\n",
       "      <td>0</td>\n",
       "    </tr>\n",
       "    <tr>\n",
       "      <th>143507</th>\n",
       "      <td>0</td>\n",
       "      <td>0</td>\n",
       "      <td>0</td>\n",
       "      <td>0</td>\n",
       "      <td>0</td>\n",
       "      <td>0</td>\n",
       "      <td>0</td>\n",
       "      <td>0</td>\n",
       "      <td>0</td>\n",
       "      <td>0</td>\n",
       "      <td>...</td>\n",
       "      <td>0</td>\n",
       "      <td>0</td>\n",
       "      <td>0</td>\n",
       "      <td>0</td>\n",
       "      <td>0</td>\n",
       "      <td>0</td>\n",
       "      <td>0</td>\n",
       "      <td>0</td>\n",
       "      <td>0</td>\n",
       "      <td>0</td>\n",
       "    </tr>\n",
       "    <tr>\n",
       "      <th>143513</th>\n",
       "      <td>0</td>\n",
       "      <td>0</td>\n",
       "      <td>0</td>\n",
       "      <td>0</td>\n",
       "      <td>0</td>\n",
       "      <td>0</td>\n",
       "      <td>0</td>\n",
       "      <td>0</td>\n",
       "      <td>0</td>\n",
       "      <td>0</td>\n",
       "      <td>...</td>\n",
       "      <td>0</td>\n",
       "      <td>0</td>\n",
       "      <td>0</td>\n",
       "      <td>0</td>\n",
       "      <td>0</td>\n",
       "      <td>0</td>\n",
       "      <td>0</td>\n",
       "      <td>0</td>\n",
       "      <td>0</td>\n",
       "      <td>0</td>\n",
       "    </tr>\n",
       "    <tr>\n",
       "      <th>143947</th>\n",
       "      <td>0</td>\n",
       "      <td>0</td>\n",
       "      <td>0</td>\n",
       "      <td>0</td>\n",
       "      <td>0</td>\n",
       "      <td>0</td>\n",
       "      <td>0</td>\n",
       "      <td>0</td>\n",
       "      <td>0</td>\n",
       "      <td>0</td>\n",
       "      <td>...</td>\n",
       "      <td>0</td>\n",
       "      <td>0</td>\n",
       "      <td>0</td>\n",
       "      <td>0</td>\n",
       "      <td>0</td>\n",
       "      <td>0</td>\n",
       "      <td>0</td>\n",
       "      <td>0</td>\n",
       "      <td>0</td>\n",
       "      <td>0</td>\n",
       "    </tr>\n",
       "  </tbody>\n",
       "</table>\n",
       "<p>1567 rows × 1567 columns</p>\n",
       "</div>"
      ]
     },
     "execution_count": 103,
     "metadata": {},
     "output_type": "execute_result"
    }
   ],
   "execution_count": 103
  },
  {
   "metadata": {
    "ExecuteTime": {
     "end_time": "2025-07-16T08:00:18.176234Z",
     "start_time": "2025-07-16T08:00:18.170015Z"
    }
   },
   "cell_type": "code",
   "source": [
    "def sorted_values(\n",
    "    cooccurrences_df: pd.DataFrame,\n",
    "    target_text_id: int\n",
    ") -> List[Tuple[int, int]]:\n",
    "    \"\"\"\n",
    "    Takes a df with adjacencies and a target_text_id. Returns sorted co-occurrences for sorted target_text_id.\n",
    "    :param cooccurrences_df:\n",
    "    :param target_text_id:\n",
    "    :return:\n",
    "    \"\"\"\n",
    "    cooccurrences = cooccurrences_df[target_text_id].copy().sort_values(ascending=False)\n",
    "\n",
    "    return cooccurrences"
   ],
   "id": "8a6e482711b65421",
   "outputs": [],
   "execution_count": 94
  },
  {
   "metadata": {
    "ExecuteTime": {
     "end_time": "2025-07-16T08:00:19.718508Z",
     "start_time": "2025-07-16T08:00:19.707552Z"
    }
   },
   "cell_type": "code",
   "source": [
    "sorted_values(\n",
    "    cooccurrences_df=cooc_df,\n",
    "    target_text_id=164\n",
    ").sum()"
   ],
   "id": "9115db7827559020",
   "outputs": [
    {
     "data": {
      "text/plain": [
       "np.int64(5230)"
      ]
     },
     "execution_count": 95,
     "metadata": {},
     "output_type": "execute_result"
    }
   ],
   "execution_count": 95
  },
  {
   "metadata": {
    "ExecuteTime": {
     "end_time": "2025-07-16T08:08:15.051735Z",
     "start_time": "2025-07-16T08:08:15.045860Z"
    }
   },
   "cell_type": "code",
   "source": "cooc_df.loc[164,164]",
   "id": "b2f0a12101499bfb",
   "outputs": [
    {
     "data": {
      "text/plain": [
       "np.int64(2)"
      ]
     },
     "execution_count": 101,
     "metadata": {},
     "output_type": "execute_result"
    }
   ],
   "execution_count": 101
  },
  {
   "metadata": {
    "ExecuteTime": {
     "end_time": "2025-07-16T08:09:53.463488Z",
     "start_time": "2025-07-16T08:09:53.460187Z"
    }
   },
   "cell_type": "code",
   "source": [
    "def compute_pmi(\n",
    "        cooc_matrix: pd.DataFrame,\n",
    "        positive: bool = True,\n",
    "        power: Union[int, float] = 1.0\n",
    ") -> np.ndarray:\n",
    "    rows = cooc_matrix.index\n",
    "    cols = cooc_matrix.columns\n",
    "    total_coocs = np.sum(cooc_matrix.values)\n",
    "    sum_over_rows = np.sum(cooc_matrix.values, axis=1, keepdims=True)\n",
    "    sum_over_cols = np.sum(cooc_matrix.values, axis=0, keepdims=True)\n",
    "\n",
    "    p_xy = cooc_matrix / total_coocs\n",
    "    p_x = sum_over_rows / total_coocs\n",
    "    p_y = sum_over_cols / total_coocs\n",
    "\n",
    "    with np.errstate(divide='ignore', invalid='ignore'):\n",
    "        pmi_matrix = np.log((p_xy ** power) / (p_x @ p_y))\n",
    "        pmi_matrix[np.isinf(pmi_matrix)] = 0.0  # handle log(0) cases gracefully\n",
    "        pmi_matrix = np.nan_to_num(pmi_matrix)\n",
    "\n",
    "    if positive:\n",
    "        pmi_matrix = np.maximum(pmi_matrix, 0)\n",
    "\n",
    "    pmi_df = pd.DataFrame(data=pmi_matrix, index=rows, columns=cols)\n",
    "    return pmi_df"
   ],
   "id": "f2e41ef6d26ab7b6",
   "outputs": [],
   "execution_count": 104
  },
  {
   "metadata": {
    "ExecuteTime": {
     "end_time": "2025-07-16T08:11:03.946220Z",
     "start_time": "2025-07-16T08:11:03.924509Z"
    }
   },
   "cell_type": "code",
   "source": [
    "low_freq_df = dataset.groupby(\"text_id\").size().copy().sort_values(ascending=False).reset_index(name=\"items\")\n",
    "gt_texts = low_freq_df[low_freq_df[\"items\"] >= 3][\"text_id\"].tolist()\n",
    "print(len(gt_texts))\n",
    "low_freq_df\n"
   ],
   "id": "48b7a8720affd6a0",
   "outputs": [
    {
     "name": "stdout",
     "output_type": "stream",
     "text": [
      "399\n"
     ]
    },
    {
     "data": {
      "text/plain": [
       "       text_id  items\n",
       "0        164.0    247\n",
       "1        466.0    216\n",
       "2        517.0    216\n",
       "3        631.0    204\n",
       "4        695.0    199\n",
       "...        ...    ...\n",
       "1562  136006.0      1\n",
       "1563  136012.0      1\n",
       "1564  136018.0      1\n",
       "1565  136020.0      1\n",
       "1566  143947.0      1\n",
       "\n",
       "[1567 rows x 2 columns]"
      ],
      "text/html": [
       "<div>\n",
       "<style scoped>\n",
       "    .dataframe tbody tr th:only-of-type {\n",
       "        vertical-align: middle;\n",
       "    }\n",
       "\n",
       "    .dataframe tbody tr th {\n",
       "        vertical-align: top;\n",
       "    }\n",
       "\n",
       "    .dataframe thead th {\n",
       "        text-align: right;\n",
       "    }\n",
       "</style>\n",
       "<table border=\"1\" class=\"dataframe\">\n",
       "  <thead>\n",
       "    <tr style=\"text-align: right;\">\n",
       "      <th></th>\n",
       "      <th>text_id</th>\n",
       "      <th>items</th>\n",
       "    </tr>\n",
       "  </thead>\n",
       "  <tbody>\n",
       "    <tr>\n",
       "      <th>0</th>\n",
       "      <td>164.0</td>\n",
       "      <td>247</td>\n",
       "    </tr>\n",
       "    <tr>\n",
       "      <th>1</th>\n",
       "      <td>466.0</td>\n",
       "      <td>216</td>\n",
       "    </tr>\n",
       "    <tr>\n",
       "      <th>2</th>\n",
       "      <td>517.0</td>\n",
       "      <td>216</td>\n",
       "    </tr>\n",
       "    <tr>\n",
       "      <th>3</th>\n",
       "      <td>631.0</td>\n",
       "      <td>204</td>\n",
       "    </tr>\n",
       "    <tr>\n",
       "      <th>4</th>\n",
       "      <td>695.0</td>\n",
       "      <td>199</td>\n",
       "    </tr>\n",
       "    <tr>\n",
       "      <th>...</th>\n",
       "      <td>...</td>\n",
       "      <td>...</td>\n",
       "    </tr>\n",
       "    <tr>\n",
       "      <th>1562</th>\n",
       "      <td>136006.0</td>\n",
       "      <td>1</td>\n",
       "    </tr>\n",
       "    <tr>\n",
       "      <th>1563</th>\n",
       "      <td>136012.0</td>\n",
       "      <td>1</td>\n",
       "    </tr>\n",
       "    <tr>\n",
       "      <th>1564</th>\n",
       "      <td>136018.0</td>\n",
       "      <td>1</td>\n",
       "    </tr>\n",
       "    <tr>\n",
       "      <th>1565</th>\n",
       "      <td>136020.0</td>\n",
       "      <td>1</td>\n",
       "    </tr>\n",
       "    <tr>\n",
       "      <th>1566</th>\n",
       "      <td>143947.0</td>\n",
       "      <td>1</td>\n",
       "    </tr>\n",
       "  </tbody>\n",
       "</table>\n",
       "<p>1567 rows × 2 columns</p>\n",
       "</div>"
      ]
     },
     "execution_count": 105,
     "metadata": {},
     "output_type": "execute_result"
    }
   ],
   "execution_count": 105
  },
  {
   "metadata": {
    "ExecuteTime": {
     "end_time": "2025-07-16T08:11:04.924559Z",
     "start_time": "2025-07-16T08:11:04.902177Z"
    }
   },
   "cell_type": "code",
   "source": "pmi_df = compute_pmi(cooc_matrix=cooc_df.loc[gt_texts, gt_texts], power=1)",
   "id": "e0939b95abad60f2",
   "outputs": [],
   "execution_count": 106
  },
  {
   "metadata": {
    "ExecuteTime": {
     "end_time": "2025-07-16T08:30:03.240661Z",
     "start_time": "2025-07-16T08:30:03.236761Z"
    }
   },
   "cell_type": "code",
   "source": "pmi_df.values",
   "id": "e30b702e6f2f20df",
   "outputs": [
    {
     "data": {
      "text/plain": [
       "array([[0.        , 0.34835061, 0.        , ..., 0.        , 0.        ,\n",
       "        0.        ],\n",
       "       [0.34835061, 0.        , 1.37470697, ..., 0.        , 0.        ,\n",
       "        0.        ],\n",
       "       [0.        , 1.37470697, 0.        , ..., 0.        , 0.        ,\n",
       "        0.        ],\n",
       "       ...,\n",
       "       [0.        , 0.        , 0.        , ..., 0.        , 0.        ,\n",
       "        0.        ],\n",
       "       [0.        , 0.        , 0.        , ..., 0.        , 0.        ,\n",
       "        0.        ],\n",
       "       [0.        , 0.        , 0.        , ..., 0.        , 0.        ,\n",
       "        0.        ]], shape=(399, 399))"
      ]
     },
     "execution_count": 109,
     "metadata": {},
     "output_type": "execute_result"
    }
   ],
   "execution_count": 109
  },
  {
   "metadata": {
    "ExecuteTime": {
     "end_time": "2025-07-16T08:11:05.622184Z",
     "start_time": "2025-07-16T08:11:05.619002Z"
    }
   },
   "cell_type": "code",
   "source": [
    "sorted_values(\n",
    "    cooccurrences_df=pmi_df,\n",
    "    target_text_id=164\n",
    ")"
   ],
   "id": "3737f12cd47af6c0",
   "outputs": [
    {
     "data": {
      "text/plain": [
       "631       1.922659\n",
       "192       1.779340\n",
       "130406    1.738518\n",
       "133351    1.718715\n",
       "125147    1.575428\n",
       "            ...   \n",
       "138716    0.000000\n",
       "127673    0.000000\n",
       "127552    0.000000\n",
       "140219    0.000000\n",
       "136305    0.000000\n",
       "Name: 164, Length: 399, dtype: float64"
      ]
     },
     "execution_count": 107,
     "metadata": {},
     "output_type": "execute_result"
    }
   ],
   "execution_count": 107
  },
  {
   "metadata": {
    "ExecuteTime": {
     "end_time": "2025-07-15T22:40:41.090309Z",
     "start_time": "2025-07-15T22:40:40.937606Z"
    }
   },
   "cell_type": "code",
   "source": [
    "from umap import UMAP\n",
    "import plotly.express as px\n",
    "\n",
    "reducer = UMAP(\n",
    "    n_components=2,\n",
    "    n_neighbors=2,\n",
    "    min_dist=0.01,\n",
    "    metric='precomputed',\n",
    ")\n",
    "\n",
    "embeddings = reducer.fit_transform(pmi_df.max() - pmi_df)\n",
    "\n",
    "fig = px.scatter(\n",
    "    embeddings, x=0, y=1, hover_name=pmi_df.index\n",
    ")\n",
    "fig.show()"
   ],
   "id": "249a41296e744b6a",
   "outputs": [
    {
     "name": "stderr",
     "output_type": "stream",
     "text": [
      "/Users/glebschmidt/projects/prayer_clusters/.venv/lib/python3.11/site-packages/umap/umap_.py:1865: UserWarning:\n",
      "\n",
      "using precomputed metric; inverse_transform will be unavailable\n",
      "\n"
     ]
    },
    {
     "data": {
      "application/vnd.plotly.v1+json": {
       "data": [
        {
         "hovertemplate": "<b>%{hovertext}</b><br><br>0=%{x}<br>1=%{y}<extra></extra>",
         "hovertext": {
          "dtype": "f8",
          "bdata": "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"
         },
         "legendgroup": "",
         "marker": {
          "color": "#636efa",
          "symbol": "circle"
         },
         "mode": "markers",
         "name": "",
         "orientation": "v",
         "showlegend": false,
         "x": {
          "dtype": "f4",
          "bdata": "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"
         },
         "xaxis": "x",
         "y": {
          "dtype": "f4",
          "bdata": "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"
         },
         "yaxis": "y",
         "type": "scatter"
        }
       ],
       "layout": {
        "template": {
         "data": {
          "histogram2dcontour": [
           {
            "type": "histogram2dcontour",
            "colorbar": {
             "outlinewidth": 0,
             "ticks": ""
            },
            "colorscale": [
             [
              0.0,
              "#0d0887"
             ],
             [
              0.1111111111111111,
              "#46039f"
             ],
             [
              0.2222222222222222,
              "#7201a8"
             ],
             [
              0.3333333333333333,
              "#9c179e"
             ],
             [
              0.4444444444444444,
              "#bd3786"
             ],
             [
              0.5555555555555556,
              "#d8576b"
             ],
             [
              0.6666666666666666,
              "#ed7953"
             ],
             [
              0.7777777777777778,
              "#fb9f3a"
             ],
             [
              0.8888888888888888,
              "#fdca26"
             ],
             [
              1.0,
              "#f0f921"
             ]
            ]
           }
          ],
          "choropleth": [
           {
            "type": "choropleth",
            "colorbar": {
             "outlinewidth": 0,
             "ticks": ""
            }
           }
          ],
          "histogram2d": [
           {
            "type": "histogram2d",
            "colorbar": {
             "outlinewidth": 0,
             "ticks": ""
            },
            "colorscale": [
             [
              0.0,
              "#0d0887"
             ],
             [
              0.1111111111111111,
              "#46039f"
             ],
             [
              0.2222222222222222,
              "#7201a8"
             ],
             [
              0.3333333333333333,
              "#9c179e"
             ],
             [
              0.4444444444444444,
              "#bd3786"
             ],
             [
              0.5555555555555556,
              "#d8576b"
             ],
             [
              0.6666666666666666,
              "#ed7953"
             ],
             [
              0.7777777777777778,
              "#fb9f3a"
             ],
             [
              0.8888888888888888,
              "#fdca26"
             ],
             [
              1.0,
              "#f0f921"
             ]
            ]
           }
          ],
          "heatmap": [
           {
            "type": "heatmap",
            "colorbar": {
             "outlinewidth": 0,
             "ticks": ""
            },
            "colorscale": [
             [
              0.0,
              "#0d0887"
             ],
             [
              0.1111111111111111,
              "#46039f"
             ],
             [
              0.2222222222222222,
              "#7201a8"
             ],
             [
              0.3333333333333333,
              "#9c179e"
             ],
             [
              0.4444444444444444,
              "#bd3786"
             ],
             [
              0.5555555555555556,
              "#d8576b"
             ],
             [
              0.6666666666666666,
              "#ed7953"
             ],
             [
              0.7777777777777778,
              "#fb9f3a"
             ],
             [
              0.8888888888888888,
              "#fdca26"
             ],
             [
              1.0,
              "#f0f921"
             ]
            ]
           }
          ],
          "contourcarpet": [
           {
            "type": "contourcarpet",
            "colorbar": {
             "outlinewidth": 0,
             "ticks": ""
            }
           }
          ],
          "contour": [
           {
            "type": "contour",
            "colorbar": {
             "outlinewidth": 0,
             "ticks": ""
            },
            "colorscale": [
             [
              0.0,
              "#0d0887"
             ],
             [
              0.1111111111111111,
              "#46039f"
             ],
             [
              0.2222222222222222,
              "#7201a8"
             ],
             [
              0.3333333333333333,
              "#9c179e"
             ],
             [
              0.4444444444444444,
              "#bd3786"
             ],
             [
              0.5555555555555556,
              "#d8576b"
             ],
             [
              0.6666666666666666,
              "#ed7953"
             ],
             [
              0.7777777777777778,
              "#fb9f3a"
             ],
             [
              0.8888888888888888,
              "#fdca26"
             ],
             [
              1.0,
              "#f0f921"
             ]
            ]
           }
          ],
          "surface": [
           {
            "type": "surface",
            "colorbar": {
             "outlinewidth": 0,
             "ticks": ""
            },
            "colorscale": [
             [
              0.0,
              "#0d0887"
             ],
             [
              0.1111111111111111,
              "#46039f"
             ],
             [
              0.2222222222222222,
              "#7201a8"
             ],
             [
              0.3333333333333333,
              "#9c179e"
             ],
             [
              0.4444444444444444,
              "#bd3786"
             ],
             [
              0.5555555555555556,
              "#d8576b"
             ],
             [
              0.6666666666666666,
              "#ed7953"
             ],
             [
              0.7777777777777778,
              "#fb9f3a"
             ],
             [
              0.8888888888888888,
              "#fdca26"
             ],
             [
              1.0,
              "#f0f921"
             ]
            ]
           }
          ],
          "mesh3d": [
           {
            "type": "mesh3d",
            "colorbar": {
             "outlinewidth": 0,
             "ticks": ""
            }
           }
          ],
          "scatter": [
           {
            "fillpattern": {
             "fillmode": "overlay",
             "size": 10,
             "solidity": 0.2
            },
            "type": "scatter"
           }
          ],
          "parcoords": [
           {
            "type": "parcoords",
            "line": {
             "colorbar": {
              "outlinewidth": 0,
              "ticks": ""
             }
            }
           }
          ],
          "scatterpolargl": [
           {
            "type": "scatterpolargl",
            "marker": {
             "colorbar": {
              "outlinewidth": 0,
              "ticks": ""
             }
            }
           }
          ],
          "bar": [
           {
            "error_x": {
             "color": "#2a3f5f"
            },
            "error_y": {
             "color": "#2a3f5f"
            },
            "marker": {
             "line": {
              "color": "#E5ECF6",
              "width": 0.5
             },
             "pattern": {
              "fillmode": "overlay",
              "size": 10,
              "solidity": 0.2
             }
            },
            "type": "bar"
           }
          ],
          "scattergeo": [
           {
            "type": "scattergeo",
            "marker": {
             "colorbar": {
              "outlinewidth": 0,
              "ticks": ""
             }
            }
           }
          ],
          "scatterpolar": [
           {
            "type": "scatterpolar",
            "marker": {
             "colorbar": {
              "outlinewidth": 0,
              "ticks": ""
             }
            }
           }
          ],
          "histogram": [
           {
            "marker": {
             "pattern": {
              "fillmode": "overlay",
              "size": 10,
              "solidity": 0.2
             }
            },
            "type": "histogram"
           }
          ],
          "scattergl": [
           {
            "type": "scattergl",
            "marker": {
             "colorbar": {
              "outlinewidth": 0,
              "ticks": ""
             }
            }
           }
          ],
          "scatter3d": [
           {
            "type": "scatter3d",
            "line": {
             "colorbar": {
              "outlinewidth": 0,
              "ticks": ""
             }
            },
            "marker": {
             "colorbar": {
              "outlinewidth": 0,
              "ticks": ""
             }
            }
           }
          ],
          "scattermap": [
           {
            "type": "scattermap",
            "marker": {
             "colorbar": {
              "outlinewidth": 0,
              "ticks": ""
             }
            }
           }
          ],
          "scattermapbox": [
           {
            "type": "scattermapbox",
            "marker": {
             "colorbar": {
              "outlinewidth": 0,
              "ticks": ""
             }
            }
           }
          ],
          "scatterternary": [
           {
            "type": "scatterternary",
            "marker": {
             "colorbar": {
              "outlinewidth": 0,
              "ticks": ""
             }
            }
           }
          ],
          "scattercarpet": [
           {
            "type": "scattercarpet",
            "marker": {
             "colorbar": {
              "outlinewidth": 0,
              "ticks": ""
             }
            }
           }
          ],
          "carpet": [
           {
            "aaxis": {
             "endlinecolor": "#2a3f5f",
             "gridcolor": "white",
             "linecolor": "white",
             "minorgridcolor": "white",
             "startlinecolor": "#2a3f5f"
            },
            "baxis": {
             "endlinecolor": "#2a3f5f",
             "gridcolor": "white",
             "linecolor": "white",
             "minorgridcolor": "white",
             "startlinecolor": "#2a3f5f"
            },
            "type": "carpet"
           }
          ],
          "table": [
           {
            "cells": {
             "fill": {
              "color": "#EBF0F8"
             },
             "line": {
              "color": "white"
             }
            },
            "header": {
             "fill": {
              "color": "#C8D4E3"
             },
             "line": {
              "color": "white"
             }
            },
            "type": "table"
           }
          ],
          "barpolar": [
           {
            "marker": {
             "line": {
              "color": "#E5ECF6",
              "width": 0.5
             },
             "pattern": {
              "fillmode": "overlay",
              "size": 10,
              "solidity": 0.2
             }
            },
            "type": "barpolar"
           }
          ],
          "pie": [
           {
            "automargin": true,
            "type": "pie"
           }
          ]
         },
         "layout": {
          "autotypenumbers": "strict",
          "colorway": [
           "#636efa",
           "#EF553B",
           "#00cc96",
           "#ab63fa",
           "#FFA15A",
           "#19d3f3",
           "#FF6692",
           "#B6E880",
           "#FF97FF",
           "#FECB52"
          ],
          "font": {
           "color": "#2a3f5f"
          },
          "hovermode": "closest",
          "hoverlabel": {
           "align": "left"
          },
          "paper_bgcolor": "white",
          "plot_bgcolor": "#E5ECF6",
          "polar": {
           "bgcolor": "#E5ECF6",
           "angularaxis": {
            "gridcolor": "white",
            "linecolor": "white",
            "ticks": ""
           },
           "radialaxis": {
            "gridcolor": "white",
            "linecolor": "white",
            "ticks": ""
           }
          },
          "ternary": {
           "bgcolor": "#E5ECF6",
           "aaxis": {
            "gridcolor": "white",
            "linecolor": "white",
            "ticks": ""
           },
           "baxis": {
            "gridcolor": "white",
            "linecolor": "white",
            "ticks": ""
           },
           "caxis": {
            "gridcolor": "white",
            "linecolor": "white",
            "ticks": ""
           }
          },
          "coloraxis": {
           "colorbar": {
            "outlinewidth": 0,
            "ticks": ""
           }
          },
          "colorscale": {
           "sequential": [
            [
             0.0,
             "#0d0887"
            ],
            [
             0.1111111111111111,
             "#46039f"
            ],
            [
             0.2222222222222222,
             "#7201a8"
            ],
            [
             0.3333333333333333,
             "#9c179e"
            ],
            [
             0.4444444444444444,
             "#bd3786"
            ],
            [
             0.5555555555555556,
             "#d8576b"
            ],
            [
             0.6666666666666666,
             "#ed7953"
            ],
            [
             0.7777777777777778,
             "#fb9f3a"
            ],
            [
             0.8888888888888888,
             "#fdca26"
            ],
            [
             1.0,
             "#f0f921"
            ]
           ],
           "sequentialminus": [
            [
             0.0,
             "#0d0887"
            ],
            [
             0.1111111111111111,
             "#46039f"
            ],
            [
             0.2222222222222222,
             "#7201a8"
            ],
            [
             0.3333333333333333,
             "#9c179e"
            ],
            [
             0.4444444444444444,
             "#bd3786"
            ],
            [
             0.5555555555555556,
             "#d8576b"
            ],
            [
             0.6666666666666666,
             "#ed7953"
            ],
            [
             0.7777777777777778,
             "#fb9f3a"
            ],
            [
             0.8888888888888888,
             "#fdca26"
            ],
            [
             1.0,
             "#f0f921"
            ]
           ],
           "diverging": [
            [
             0,
             "#8e0152"
            ],
            [
             0.1,
             "#c51b7d"
            ],
            [
             0.2,
             "#de77ae"
            ],
            [
             0.3,
             "#f1b6da"
            ],
            [
             0.4,
             "#fde0ef"
            ],
            [
             0.5,
             "#f7f7f7"
            ],
            [
             0.6,
             "#e6f5d0"
            ],
            [
             0.7,
             "#b8e186"
            ],
            [
             0.8,
             "#7fbc41"
            ],
            [
             0.9,
             "#4d9221"
            ],
            [
             1,
             "#276419"
            ]
           ]
          },
          "xaxis": {
           "gridcolor": "white",
           "linecolor": "white",
           "ticks": "",
           "title": {
            "standoff": 15
           },
           "zerolinecolor": "white",
           "automargin": true,
           "zerolinewidth": 2
          },
          "yaxis": {
           "gridcolor": "white",
           "linecolor": "white",
           "ticks": "",
           "title": {
            "standoff": 15
           },
           "zerolinecolor": "white",
           "automargin": true,
           "zerolinewidth": 2
          },
          "scene": {
           "xaxis": {
            "backgroundcolor": "#E5ECF6",
            "gridcolor": "white",
            "linecolor": "white",
            "showbackground": true,
            "ticks": "",
            "zerolinecolor": "white",
            "gridwidth": 2
           },
           "yaxis": {
            "backgroundcolor": "#E5ECF6",
            "gridcolor": "white",
            "linecolor": "white",
            "showbackground": true,
            "ticks": "",
            "zerolinecolor": "white",
            "gridwidth": 2
           },
           "zaxis": {
            "backgroundcolor": "#E5ECF6",
            "gridcolor": "white",
            "linecolor": "white",
            "showbackground": true,
            "ticks": "",
            "zerolinecolor": "white",
            "gridwidth": 2
           }
          },
          "shapedefaults": {
           "line": {
            "color": "#2a3f5f"
           }
          },
          "annotationdefaults": {
           "arrowcolor": "#2a3f5f",
           "arrowhead": 0,
           "arrowwidth": 1
          },
          "geo": {
           "bgcolor": "white",
           "landcolor": "#E5ECF6",
           "subunitcolor": "white",
           "showland": true,
           "showlakes": true,
           "lakecolor": "white"
          },
          "title": {
           "x": 0.05
          },
          "mapbox": {
           "style": "light"
          }
         }
        },
        "xaxis": {
         "anchor": "y",
         "domain": [
          0.0,
          1.0
         ],
         "title": {
          "text": "0"
         }
        },
        "yaxis": {
         "anchor": "x",
         "domain": [
          0.0,
          1.0
         ],
         "title": {
          "text": "1"
         }
        },
        "legend": {
         "tracegroupgap": 0
        },
        "margin": {
         "t": 60
        }
       },
       "config": {
        "plotlyServerURL": "https://plot.ly"
       }
      }
     },
     "metadata": {},
     "output_type": "display_data"
    }
   ],
   "execution_count": 62
  },
  {
   "metadata": {
    "ExecuteTime": {
     "end_time": "2025-07-15T22:39:35.481200Z",
     "start_time": "2025-07-15T22:39:34.326516Z"
    }
   },
   "cell_type": "code",
   "source": "",
   "id": "7c0bc89a36f8af18",
   "outputs": [
    {
     "name": "stdout",
     "output_type": "stream",
     "text": [
      "[4 4 4 4 4 4 4 4 4 4 1 4 4 4 1 1 4 4 4 1 2 0 4 4 1 4 4 4 1 1 0 4 4 4 4 1 4\n",
      " 2 4 1 2 3 4 3 4 4 1 2 1 1 4 1 0 0 4 4 2 4 0 2 0 3 0 2 2 2 0 1 2 2 4 0 1 3\n",
      " 4 4 4 1 0 0 0 1 0 4 4 0 2 4 0 4 4 0 3 4 4 0 2 0 0 4 2 4 0 4 4 4 4 4 0 4 4\n",
      " 4 4 4 3 4 4 4 4 3 4 0 4 4 4 0 4 4 3 2 4 4 1 4 4 0 4 4 4 0 4 0 4 4 4 4 2 4\n",
      " 4 4 4 4 4 4 4 4 0 4 4 4 3 0 4 2 4 4 4 4 4 4 4 3 4 4 4 4 4 4 4 4 2 4 1 4 0\n",
      " 1 1 4 2 4 4 4 4 4 3 4 4 4 4 2 4 4 1 4 4 4 3 1 3 1 4 0 4 4 4 4 0 0 4 4 0 4\n",
      " 0 4 2 3 4 3 2 4 2 1 4 3 4 4 0 0 3 2 1 4 0 3 0 0 4 3 3 0 4 1 4 1 4 4 4 3 4\n",
      " 4 4 4 4 4 0 4 1 2 1 0 2 4 4 2 4 4 4 0 1 4 4 4 4 0 1 3 4 3 0 4 4 3 4 2 4 4\n",
      " 4 4 2 4 4 4 4 4 4 4 4 4 4 4 0 3 4 0 4 0 4 0 2 4 1 4 4 4 0 4 4 4 4 4 3 4 4\n",
      " 4 1 4 4 4 4 3 1 4 1 4 0 1 4 4 4 4 4 2 0 3 4 1 4 4 0 4 0 4 4 1 4 4 1 4 1 4\n",
      " 4 4 4 4 4 0 4 0 2 4 4 4 2 4 0 4 0 4 4 4 4 4 4 2 1 4 3 4 0]\n"
     ]
    },
    {
     "name": "stderr",
     "output_type": "stream",
     "text": [
      "/Users/glebschmidt/projects/prayer_clusters/.venv/lib/python3.11/site-packages/sklearn/manifold/_spectral_embedding.py:309: UserWarning:\n",
      "\n",
      "Array is not symmetric, and will be converted to symmetric by average with its transpose.\n",
      "\n",
      "/Users/glebschmidt/projects/prayer_clusters/.venv/lib/python3.11/site-packages/sklearn/utils/extmath.py:203: RuntimeWarning:\n",
      "\n",
      "divide by zero encountered in matmul\n",
      "\n",
      "/Users/glebschmidt/projects/prayer_clusters/.venv/lib/python3.11/site-packages/sklearn/utils/extmath.py:203: RuntimeWarning:\n",
      "\n",
      "overflow encountered in matmul\n",
      "\n",
      "/Users/glebschmidt/projects/prayer_clusters/.venv/lib/python3.11/site-packages/sklearn/utils/extmath.py:203: RuntimeWarning:\n",
      "\n",
      "invalid value encountered in matmul\n",
      "\n"
     ]
    }
   ],
   "execution_count": 49
  },
  {
   "metadata": {},
   "cell_type": "code",
   "outputs": [],
   "execution_count": null,
   "source": "",
   "id": "72d98bd6e59f8857"
  }
 ],
 "metadata": {
  "kernelspec": {
   "display_name": "Python 3",
   "language": "python",
   "name": "python3"
  },
  "language_info": {
   "codemirror_mode": {
    "name": "ipython",
    "version": 2
   },
   "file_extension": ".py",
   "mimetype": "text/x-python",
   "name": "python",
   "nbconvert_exporter": "python",
   "pygments_lexer": "ipython2",
   "version": "2.7.6"
  }
 },
 "nbformat": 4,
 "nbformat_minor": 5
}
