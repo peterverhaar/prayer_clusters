{
 "cells": [
  {
   "cell_type": "code",
   "execution_count": 1,
   "id": "1499e4dc",
   "metadata": {},
   "outputs": [],
   "source": [
    "import pandas as pd\n",
    "from collections import Counter\n",
    "import itertools\n",
    "from os.path import join\n",
    "from itertools import combinations\n",
    "from tqdm import tqdm\n",
    "import re\n",
    "import json\n",
    "\n",
    "def all_combinations(texts_list, n):\n",
    "    all_combinations = []\n",
    "    texts = combinations(texts_list, n)\n",
    "    for t in texts:\n",
    "        all_combinations.append(list(t))\n",
    "    return(all_combinations)\n",
    "        \n",
    "\n",
    "def intersection(list1,list2):\n",
    "    intersection = list(set(list1) & set(list2))\n",
    "    return intersection\n",
    "\n",
    "def deduplicate_list(l):\n",
    "    l.sort()\n",
    "    return list(l for l,_ in itertools.groupby(l))\n",
    "\n",
    "\n",
    "book_type = 'print'"
   ]
  },
  {
   "cell_type": "code",
   "execution_count": 2,
   "id": "3b633c10",
   "metadata": {},
   "outputs": [],
   "source": [
    "path = f'{book_type}_books.json'\n",
    "json_file = open(path)\n",
    "json_data = json.load(json_file)\n",
    "titles = json_data['titles']\n",
    "book_texts = json_data['book_texts']"
   ]
  },
  {
   "cell_type": "code",
   "execution_count": 3,
   "id": "478e1d6b",
   "metadata": {},
   "outputs": [],
   "source": [
    "## Ids of all texts\n",
    "all_texts_freq = Counter()\n",
    "\n",
    "for book in book_texts:\n",
    "    texts = book_texts[book]\n",
    "    all_texts_freq.update(texts)"
   ]
  },
  {
   "cell_type": "code",
   "execution_count": 4,
   "id": "99ba8144",
   "metadata": {},
   "outputs": [
    {
     "name": "stdout",
     "output_type": "stream",
     "text": [
      "28 books\n",
      "133 texts\n"
     ]
    }
   ],
   "source": [
    "print(f'{len(book_texts)} books')\n",
    "corpus = list(set(all_texts_freq.keys()))\n",
    "print(f'{len(corpus)} texts')"
   ]
  },
  {
   "cell_type": "markdown",
   "id": "cea1e8fb",
   "metadata": {},
   "source": [
    "* text as list\n",
    "* find cooccurrences\n",
    "* make cklusters\n",
    "* find cooccurences\n",
    "* make clusters\n",
    "* until no cooccurrences"
   ]
  },
  {
   "cell_type": "code",
   "execution_count": 5,
   "id": "20366d8b",
   "metadata": {},
   "outputs": [],
   "source": [
    "def find_books_containing_cluster(cluster,book_texts):\n",
    "    books = []\n",
    "    for book in book_texts:\n",
    "        texts = book_texts[book]\n",
    "        if len(intersection(texts,cluster))==len(cluster):\n",
    "            books.append(book)\n",
    "    return books"
   ]
  },
  {
   "cell_type": "code",
   "execution_count": 6,
   "id": "6616fe59",
   "metadata": {},
   "outputs": [
    {
     "name": "stdout",
     "output_type": "stream",
     "text": [
      "8\n"
     ]
    }
   ],
   "source": [
    "#cluster = [168, 171, 260, 526, 540]\n",
    "#cluster = [127443,127462,134925,540]\n",
    "#cluster = [127464, 127555, 127570]\n",
    "#cluster = [171,260,526,127529,127539]\n",
    "#cluster = [127500,127501,127502,127503,127505]\n",
    "#cluster = [124914, 124812]\n",
    "#cluster = [168,171,540,127529,127539,127675,132339]\n",
    "cluster = [526,127671,127681,127682,128064,128998,129006,137359,138593,138595,138606,138709,138713,138720,138743]\n",
    "\n",
    "out = open('clusters.html','w')\n",
    "\n",
    "books = find_books_containing_cluster(cluster,book_texts)\n",
    "print(len(books))\n",
    "\n",
    "out.write('''\n",
    "<html><head>\n",
    "<style>\n",
    "    div {\n",
    "        margin-left:10px; \n",
    "        margin-bottom:10px; \n",
    "        width: 20px;\n",
    "        height: 20px;\n",
    "        display: inline-block;\n",
    "    }\n",
    "\n",
    "    .div-1 {\n",
    "        background-color: #dddecc;\n",
    "\n",
    "    }\n",
    "\n",
    "    .div-2 {\n",
    "        background-color: #ab2038;\n",
    "    }\n",
    "\n",
    "  body {\n",
    "    font-family:Arial,sans-serif;Georgia;\n",
    "    font-size:smaller; \n",
    "    margin-left: 10%; \n",
    "    margin-right: 10%; \n",
    "    margin-top: 2%;\n",
    "    margin-bottom: 20%;\n",
    "    background-color: #f2f1ed ; }\n",
    "\n",
    "\n",
    "\n",
    "    a.popup{position:relative;\n",
    "    z-index:24;\n",
    "    color:#046;\n",
    "    text-decoration:underline; \n",
    "    top: 0;}\n",
    "    a.popup:hover{top: 0;z-index:999;}\n",
    "    a.popup span{display: none}\n",
    "    a.popup:hover span{\n",
    "    color: white;\n",
    "    background: #9496a8 ;\n",
    "    display:block;\n",
    "    position:absolute;\n",
    "    padding: 0.7em 1.5em 0.7em 1.5em;\n",
    "    top:1.5em;\n",
    "    left:0;\n",
    "    text-align:center; }\n",
    "\n",
    "\n",
    "</style></head>''')\n",
    "out.write('<body>')\n",
    "\n",
    "out.write('<table>')\n",
    "\n",
    "for book in books:\n",
    "    out.write('<tr><td>')\n",
    "    out.write(f\"{titles[book]} ({book})\")\n",
    "    out.write('<br/><br/>')\n",
    "    texts = book_texts[book]\n",
    "    for text in texts:\n",
    "        if text in cluster:\n",
    "            div_class = 'div-2'\n",
    "        else:\n",
    "            div_class = 'div-1'\n",
    "        out.write('<a href=\"#\" class=\"popup\" alt=\"increase\">')\n",
    "        out.write(f'<span>{titles[str(text)]} ({text})</span>')\n",
    "        out.write(f'<div class=\"{div_class}\">&nbsp;</div>')\n",
    "        out.write('</a>')\n",
    "    out.write('<tr><td>')\n",
    "out.write('</table>')\n",
    "out.write('</body></html>')\n",
    "\n",
    "out.close()"
   ]
  },
  {
   "cell_type": "code",
   "execution_count": null,
   "id": "9354a823",
   "metadata": {},
   "outputs": [],
   "source": []
  }
 ],
 "metadata": {
  "kernelspec": {
   "display_name": "Python 3 (ipykernel)",
   "language": "python",
   "name": "python3"
  },
  "language_info": {
   "codemirror_mode": {
    "name": "ipython",
    "version": 3
   },
   "file_extension": ".py",
   "mimetype": "text/x-python",
   "name": "python",
   "nbconvert_exporter": "python",
   "pygments_lexer": "ipython3",
   "version": "3.7.9"
  }
 },
 "nbformat": 4,
 "nbformat_minor": 5
}
