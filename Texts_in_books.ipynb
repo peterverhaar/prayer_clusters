{
 "cells": [
  {
   "cell_type": "markdown",
   "id": "a3cbeb30",
   "metadata": {},
   "source": [
    "This notebook creates a JSON file which describes all the books. The output file lists the Heurist IDs of these books and the books contained in the various books. Texts in manuscript books and in printed books can be exported separately. "
   ]
  },
  {
   "cell_type": "code",
   "execution_count": 1,
   "id": "a995296c",
   "metadata": {},
   "outputs": [],
   "source": [
    "book_type = 'manuscript'"
   ]
  },
  {
   "cell_type": "code",
   "execution_count": 2,
   "id": "1499e4dc",
   "metadata": {},
   "outputs": [],
   "source": [
    "import pandas as pd\n",
    "from collections import Counter\n",
    "import itertools\n",
    "from os.path import join\n",
    "from itertools import combinations\n",
    "from tqdm import tqdm\n",
    "import re\n",
    "import json\n",
    "import prayer_leiden"
   ]
  },
  {
   "cell_type": "code",
   "execution_count": 3,
   "id": "3b633c10",
   "metadata": {},
   "outputs": [
    {
     "name": "stdout",
     "output_type": "stream",
     "text": [
      "Total number of books: 680\n"
     ]
    }
   ],
   "source": [
    "path = 'prayer_leiden.json'\n",
    "json_file = open(path)\n",
    "json_data = json.load(json_file)\n",
    "\n",
    "print(f'Total number of books: {len(json_data)}')"
   ]
  },
  {
   "cell_type": "code",
   "execution_count": 4,
   "id": "2390dc3a",
   "metadata": {},
   "outputs": [],
   "source": [
    "texts_to_exclude = [ 'G151','G152','G153','G153a','G154','G155a','G155b',\n",
    "                    'G155c','G155d','G155e','G156','G156b','G157','G158',\n",
    "                    'G158b' ] \n",
    "\n",
    "## Exclude texts without identification like Calendars\n",
    "\n",
    "## Merge following Heurist IDs\n",
    "\n",
    "merge_hids = {\n",
    "    \n",
    "    544:540,\n",
    "    547:540,\n",
    "    549:540,\n",
    "    550:540,\n",
    "    135517:540,\n",
    "\n",
    "    132476:132477,\n",
    "    135524:132477,\n",
    "    137964:132477,\n",
    "    135511:132477\n",
    "}"
   ]
  },
  {
   "cell_type": "code",
   "execution_count": 5,
   "id": "1650a223",
   "metadata": {},
   "outputs": [
    {
     "name": "stdout",
     "output_type": "stream",
     "text": [
      "Nr priunted books: 272\n",
      "Total number of texts: 7963\n",
      "Nr texts analysed 4085\n"
     ]
    }
   ],
   "source": [
    "titles = dict()\n",
    "book_texts = dict()\n",
    "\n",
    "total_nr_texts = 0\n",
    "nr_texts_analysed = 0\n",
    "nr_books = 0 \n",
    "\n",
    "for book in json_data:\n",
    "    \n",
    "    book_id = int(book['id'])\n",
    "    \n",
    "    found_book_type = 'Unknown'\n",
    "    \n",
    "\n",
    "    if 'production_layers' in book and len(book['production_layers'])>0:\n",
    "        if 'type' in book['production_layers'][0]:\n",
    "            found_book_type = book['production_layers'][0]['type']\n",
    "        \n",
    "    if book_type.lower() == found_book_type.lower():\n",
    "        \n",
    "        \n",
    "        if 'title' in book:\n",
    "            titles[ book_id ] = book['title']\n",
    "        elif 'shelfmark' in book:\n",
    "            titles[ book_id ] = book['shelfmark']\n",
    "        else:\n",
    "            titles[ book_id ] = '[Untitled]'\n",
    "\n",
    "        texts = book['texts']\n",
    "\n",
    "        all_texts = []\n",
    "        for text in texts:\n",
    "            total_nr_texts += 1\n",
    "\n",
    "            if 'text_id' in text and 'prayer_id' in text:\n",
    "                if text['prayer_id'] not in texts_to_exclude and len(text['prayer_id'].strip()) > 0:\n",
    "                    text_id = int(text['text_id'])\n",
    "\n",
    "                    if text_id in merge_hids:\n",
    "                        text_id = merge_hids[text_id]\n",
    "\n",
    "                    all_texts.append(text_id)                \n",
    "                    if 'title' in text and re.search(r'\\d',str(text_id)):\n",
    "                        titles[text_id] = f\"{text['prayer_id']}: {text['title']}\"\n",
    "\n",
    "        if len(all_texts)>0:\n",
    "            book_texts[book_id] = all_texts\n",
    "            nr_texts_analysed += len(all_texts)\n",
    "            nr_books += 1\n",
    "            \n",
    "            \n",
    "\n",
    "print(f'Nr priunted books: {nr_books}')\n",
    "print(f'Total number of texts: {total_nr_texts}')\n",
    "print(f'Nr texts analysed {nr_texts_analysed}')\n",
    "\n",
    "\n",
    "## Manual assignment of merged titles\n",
    "titles[540] = \"G004: Prayer of St. Gregory to the Arma Christi\"\n",
    "titles[132477] = \"G155_G189c: Long Hours of the Holy Cross with prologue B interwoven with Prayer on Mary's Compassion \""
   ]
  },
  {
   "cell_type": "code",
   "execution_count": 6,
   "id": "ef0c0cff",
   "metadata": {},
   "outputs": [],
   "source": [
    "data = dict()\n",
    "data['titles'] = titles\n",
    "data['book_texts'] = book_texts\n",
    "\n",
    "\n",
    "json_str = json.dumps(data, indent=4)\n",
    "\n",
    "with open(f'{book_type}_books.json','w',encoding='utf-8') as out:\n",
    "    out.write(json_str)"
   ]
  }
 ],
 "metadata": {
  "kernelspec": {
   "display_name": "Python 3 (ipykernel)",
   "language": "python",
   "name": "python3"
  },
  "language_info": {
   "codemirror_mode": {
    "name": "ipython",
    "version": 3
   },
   "file_extension": ".py",
   "mimetype": "text/x-python",
   "name": "python",
   "nbconvert_exporter": "python",
   "pygments_lexer": "ipython3",
   "version": "3.7.9"
  }
 },
 "nbformat": 4,
 "nbformat_minor": 5
}
