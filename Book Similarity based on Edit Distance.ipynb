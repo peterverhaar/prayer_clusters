{
 "cells": [
  {
   "cell_type": "code",
   "execution_count": 1,
   "id": "93591bf4",
   "metadata": {},
   "outputs": [],
   "source": [
    "import seqsim\n",
    "import pandas as pd\n",
    "import json\n",
    "from tqdm import tqdm\n",
    "import matplotlib.pyplot as plt\n",
    "import seaborn as sns\n",
    "import re\n",
    "from prayer_leiden import *"
   ]
  },
  {
   "cell_type": "code",
   "execution_count": 2,
   "id": "245086b0",
   "metadata": {},
   "outputs": [],
   "source": [
    "book_type = 'manuscript'\n",
    "json_file = open(f'{book_type}_books.json')\n",
    "json_data = json.load(json_file)\n",
    "titles = json_data['titles']\n",
    "book_texts = json_data['book_texts']\n",
    "\n",
    "books = list( book_texts.keys() )"
   ]
  },
  {
   "cell_type": "markdown",
   "id": "80f82f37",
   "metadata": {},
   "source": [
    "Create a dataframe with all edit distances"
   ]
  },
  {
   "cell_type": "code",
   "execution_count": 3,
   "id": "b53f3642",
   "metadata": {},
   "outputs": [
    {
     "name": "stderr",
     "output_type": "stream",
     "text": [
      "100%|█████████████████████████████████████████| 272/272 [00:09<00:00, 28.85it/s]\n"
     ]
    }
   ],
   "source": [
    "columns = []\n",
    "columns.append('title')\n",
    "for h_id in books:\n",
    "    columns.append(h_id)\n",
    "\n",
    "rows = []\n",
    "for book in tqdm(book_texts):\n",
    "\n",
    "    row = []\n",
    "    row.append(book)\n",
    "    for other_book in book_texts:\n",
    "        if len(book_texts[book])>5 and len(book_texts[other_book])>5:\n",
    "            distance = seqsim.edit.levenshtein_dist(book_texts[book], book_texts[other_book], normal=True)\n",
    "        else:\n",
    "            distance = 1\n",
    "        row.append(distance)\n",
    "    rows.append(row)\n",
    "    \n",
    "df = pd.DataFrame(rows,columns=columns)\n",
    "df = df.set_index('title')"
   ]
  },
  {
   "cell_type": "code",
   "execution_count": null,
   "id": "85afd9b3",
   "metadata": {},
   "outputs": [],
   "source": [
    "\n",
    "for book in books:\n",
    "    book_dict = df.loc[book].sort_values().to_dict()\n",
    "    for other_book in book_dict:\n",
    "        if book != other_book and book_dict[other_book]<0.5 and len(book_texts[book])>4:\n",
    "            print(book_dict[other_book])\n",
    "            print([book,other_book])\n",
    "            cooccurring = intersection(book_texts[book],book_texts[other_book])\n",
    "            print(f'\"{titles[book]}\" and \"{titles[other_book]}\" share {len(cooccurring)} texts.')\n",
    "            for text in cooccurring:\n",
    "                print(f'- {text}: {titles[str(text)]}')\n",
    "            \n",
    "    "
   ]
  },
  {
   "cell_type": "code",
   "execution_count": null,
   "id": "06687801",
   "metadata": {},
   "outputs": [],
   "source": [
    "import plotly.express as px\n",
    "\n",
    "fig = px.imshow(df,color_continuous_scale=['#7e0327','#f2f5f3'])\n",
    "\n",
    "fig.update_xaxes(showticklabels=False)\n",
    "fig.update_yaxes(showticklabels=False)\n",
    "\n",
    "fig.update_layout(width=1500,height=1500)\n",
    "fig.show()\n"
   ]
  },
  {
   "cell_type": "code",
   "execution_count": null,
   "id": "3900ddf9",
   "metadata": {},
   "outputs": [],
   "source": [
    "edges = dict()\n",
    "\n",
    "for book in df.columns:\n",
    "    row = []\n",
    "    \n",
    "    books_dict = df[book].to_dict()\n",
    "\n",
    "    for i in books_dict:\n",
    "        if books_dict[i]<=0.5 and i != book:\n",
    "            edges[(book,i)] = books_dict[i]\n",
    "            "
   ]
  },
  {
   "cell_type": "code",
   "execution_count": null,
   "id": "b2c892eb",
   "metadata": {},
   "outputs": [],
   "source": [
    "books = []\n",
    "\n",
    "for edge in edges:\n",
    "    books.append(edge[0])\n",
    "    books.append(edge[1])\n",
    "    \n",
    "books = list(set(books))\n",
    "\n",
    "rows = []\n",
    "\n",
    "for book in books:\n",
    "    row = []\n",
    "    row.append(book)\n",
    "    for book2 in books:\n",
    "        if book == books:\n",
    "            row.append(0)\n",
    "        else:\n",
    "            row.append(edges.get( (book,book2) ,1))\n",
    "    rows.append(row)\n",
    "\n",
    "columns = ['book']\n",
    "columns.extend(books)\n",
    "\n",
    "df_mf = pd.DataFrame(rows,columns=columns)\n",
    "df_mf = df_mf.set_index('book')"
   ]
  },
  {
   "cell_type": "markdown",
   "id": "c058d7e2",
   "metadata": {},
   "source": [
    "## Heatmap of the most similar books"
   ]
  },
  {
   "cell_type": "code",
   "execution_count": null,
   "id": "b053da10",
   "metadata": {
    "scrolled": true
   },
   "outputs": [],
   "source": [
    "fig = plt.figure( figsize=( 40,40) )\n",
    "sns.heatmap(df_mf,cmap = 'Blues_r')\n"
   ]
  },
  {
   "cell_type": "code",
   "execution_count": null,
   "id": "712de70e",
   "metadata": {},
   "outputs": [],
   "source": []
  }
 ],
 "metadata": {
  "kernelspec": {
   "display_name": "Python 3 (ipykernel)",
   "language": "python",
   "name": "python3"
  },
  "language_info": {
   "codemirror_mode": {
    "name": "ipython",
    "version": 3
   },
   "file_extension": ".py",
   "mimetype": "text/x-python",
   "name": "python",
   "nbconvert_exporter": "python",
   "pygments_lexer": "ipython3",
   "version": "3.7.9"
  }
 },
 "nbformat": 4,
 "nbformat_minor": 5
}
