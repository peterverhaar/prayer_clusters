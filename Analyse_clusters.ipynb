{
 "cells": [
  {
   "cell_type": "code",
   "execution_count": 1,
   "id": "80114065",
   "metadata": {},
   "outputs": [],
   "source": [
    "import pandas as pd\n",
    "import json\n",
    "import re\n",
    "\n",
    "## 'manuscript' or 'print'\n",
    "book_type = 'print'\n",
    "\n",
    "directory = 'Clusters'\n",
    "import os\n",
    "if not os.path.exists(directory):\n",
    "    os.makedirs(directory)\n"
   ]
  },
  {
   "cell_type": "code",
   "execution_count": 2,
   "id": "18890d04",
   "metadata": {},
   "outputs": [
    {
     "name": "stdout",
     "output_type": "stream",
     "text": [
      "Index(['cluster', 'length', 'frequency'], dtype='object')\n",
      "the CSV file describes 398535 clusters.\n"
     ]
    }
   ],
   "source": [
    "\n",
    "clusters_df = pd.read_csv(f'all_clusters_{book_type}.csv')\n",
    "print(clusters_df.columns)\n",
    "print(f'the CSV file describes {clusters_df.shape[0]} clusters.')\n",
    "\n",
    "path = f'{book_type}_books.json'\n",
    "json_file = open(path)\n",
    "json_data = json.load(json_file)\n",
    "titles = json_data['titles']\n"
   ]
  },
  {
   "cell_type": "code",
   "execution_count": 3,
   "id": "06b840a6",
   "metadata": {},
   "outputs": [
    {
     "name": "stdout",
     "output_type": "stream",
     "text": [
      "2\n",
      "15\n"
     ]
    }
   ],
   "source": [
    "print(f'{clusters_df[\"length\"].min()}')\n",
    "print(f'{clusters_df[\"length\"].max()}')"
   ]
  },
  {
   "cell_type": "code",
   "execution_count": 4,
   "id": "ac57c583",
   "metadata": {},
   "outputs": [
    {
     "name": "stdout",
     "output_type": "stream",
     "text": [
      "the CSV file describes 398535 clusters.\n"
     ]
    }
   ],
   "source": [
    "#clusters_df = clusters_df.query( 'length>1')\n",
    "#clusters_df = clusters_df[['id','cluster','nr_texts','nr_books']]\n",
    "print(f'the CSV file describes {clusters_df.shape[0]} clusters.')"
   ]
  },
  {
   "cell_type": "code",
   "execution_count": 5,
   "id": "ce873ee5",
   "metadata": {
    "scrolled": true
   },
   "outputs": [],
   "source": [
    "import ast\n",
    "\n",
    "clusters_4 = clusters_df.query( 'length == 4' )\n",
    "\n",
    "\n",
    "path = os.path.join(directory,f'clusters_four_texts_{book_type}.txt')\n",
    "with open(path,'w') as out:\n",
    "    for i,row in clusters_4.sort_values(by='frequency',ascending=False).iterrows():\n",
    "\n",
    "        cluster_str = row['cluster']\n",
    "        cluster = re.split( r'\\s',cluster_str)\n",
    "        \n",
    "        for text in cluster:\n",
    "            out.write(f'{titles[text]} ({text})\\n')\n",
    "        out.write(f'-- occurs in {row[\"frequency\"]} books.\\n\\n')"
   ]
  },
  {
   "cell_type": "code",
   "execution_count": 6,
   "id": "0cb37954",
   "metadata": {},
   "outputs": [],
   "source": [
    "clusters_5 = clusters_df.query( 'length == 5' )\n",
    "\n",
    "path = os.path.join(directory,f'clusters_five_texts_{book_type}.txt')\n",
    "with open(path,'w') as out:\n",
    "    for i,row in clusters_5.sort_values(by='frequency',ascending=False).iterrows():\n",
    "\n",
    "        cluster_str = row['cluster']\n",
    "        cluster = re.split( r'\\s',cluster_str)\n",
    "        \n",
    "        for text in cluster:\n",
    "            out.write(f'{titles[text]} ({text})\\n')\n",
    "        out.write(f'-- occurs in {row[\"frequency\"]} books.\\n\\n')"
   ]
  },
  {
   "cell_type": "code",
   "execution_count": 7,
   "id": "5bca3a37",
   "metadata": {},
   "outputs": [],
   "source": [
    "clusters_6 = clusters_df.query( 'length == 6' )\n",
    "\n",
    "path = os.path.join(directory,f'clusters_six_texts_{book_type}.txt')\n",
    "with open(path,'w') as out:\n",
    "    for i,row in clusters_6.sort_values(by='frequency',ascending=False).iterrows():\n",
    "\n",
    "        cluster_str = row['cluster']\n",
    "        cluster = re.split( r'\\s',cluster_str)\n",
    "        \n",
    "        for text in cluster:\n",
    "            out.write(f'{titles[text]} ({text})\\n')\n",
    "        out.write(f'-- occurs in {row[\"frequency\"]} books.\\n\\n')"
   ]
  },
  {
   "cell_type": "code",
   "execution_count": 8,
   "id": "f0ba4578",
   "metadata": {},
   "outputs": [],
   "source": [
    "clusters_7 = clusters_df.query( 'length == 7' )\n",
    "\n",
    "path = os.path.join(directory,f'clusters_seven_texts_{book_type}.txt')\n",
    "with open(path,'w') as out:\n",
    "    for i,row in clusters_7.sort_values(by='frequency',ascending=False).iterrows():\n",
    "\n",
    "        cluster_str = row['cluster']\n",
    "        cluster = re.split( r'\\s',cluster_str)\n",
    "        \n",
    "        for text in cluster:\n",
    "            out.write(f'{titles[text]} ({text})\\n')\n",
    "        out.write(f'-- occurs in {row[\"frequency\"]} books.\\n\\n')"
   ]
  },
  {
   "cell_type": "code",
   "execution_count": 9,
   "id": "a008d361",
   "metadata": {},
   "outputs": [],
   "source": [
    "clusters_larger = clusters_df.query( 'length > 7' )\n",
    "\n",
    "path = os.path.join(directory,f'clusters_eight_or_higher_{book_type}.txt')\n",
    "with open(path,'w') as out:\n",
    "    for i,row in clusters_larger.sort_values(by=['length','frequency'],ascending=False).iterrows():\n",
    "\n",
    "        cluster_str = row['cluster']\n",
    "        cluster = re.split( r'\\s',cluster_str)\n",
    "        \n",
    "        for text in cluster:\n",
    "            out.write(f'{titles[text]} ({text})\\n')\n",
    "        out.write(f'-- occurs in {row[\"frequency\"]} books.\\n\\n')"
   ]
  },
  {
   "cell_type": "code",
   "execution_count": null,
   "id": "4487d429",
   "metadata": {},
   "outputs": [],
   "source": []
  }
 ],
 "metadata": {
  "kernelspec": {
   "display_name": "Python 3 (ipykernel)",
   "language": "python",
   "name": "python3"
  },
  "language_info": {
   "codemirror_mode": {
    "name": "ipython",
    "version": 3
   },
   "file_extension": ".py",
   "mimetype": "text/x-python",
   "name": "python",
   "nbconvert_exporter": "python",
   "pygments_lexer": "ipython3",
   "version": "3.7.9"
  }
 },
 "nbformat": 4,
 "nbformat_minor": 5
}
